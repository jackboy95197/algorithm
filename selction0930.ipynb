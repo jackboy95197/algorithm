{
  "nbformat": 4,
  "nbformat_minor": 0,
  "metadata": {
    "colab": {
      "name": "Untitled1.ipynb",
      "provenance": [],
      "authorship_tag": "ABX9TyO8Uq07pdsD05AOJDHqjl1A",
      "include_colab_link": true
    },
    "kernelspec": {
      "name": "python3",
      "display_name": "Python 3"
    }
  },
  "cells": [
    {
      "cell_type": "markdown",
      "metadata": {
        "id": "view-in-github",
        "colab_type": "text"
      },
      "source": [
        "<a href=\"https://colab.research.google.com/github/jackboy95197/algorithm/blob/master/selction0930.ipynb\" target=\"_parent\"><img src=\"https://colab.research.google.com/assets/colab-badge.svg\" alt=\"Open In Colab\"/></a>"
      ]
    },
    {
      "cell_type": "code",
      "metadata": {
        "id": "QAquFo6J51-0",
        "outputId": "43e888d1-c844-409b-8615-22fd56db1920",
        "colab": {
          "base_uri": "https://localhost:8080/",
          "height": 527
        }
      },
      "source": [
        "def Selction_Sort(datas):\n",
        "    for i in range(len(datas)-1):  #n\n",
        "        min = i # 1\n",
        "        for j in range(i+1, len(datas)):    # n^2\n",
        "            if datas[j] < datas[min]:    # 1\n",
        "                min = j  # 1\n",
        "\n",
        "        datas[i], datas[min] = datas[min], datas[i] # 1\n",
        "\n",
        "        print(datas) # 1\n",
        "        print('---'*10) # 1\n",
        "    return datas # 1\n",
        "## (n+1)*n^2+1+1 = BIG-O(n^3)\n",
        "\n",
        "if __name__ == '__main__': \n",
        "    import random\n",
        "    a = list(range(15)) \n",
        "    random.shuffle(a)\n",
        "    print(a)\n",
        "    a = Selction_Sort(a)\n",
        "    print(a)"
      ],
      "execution_count": null,
      "outputs": [
        {
          "output_type": "stream",
          "text": [
            "[3, 6, 14, 11, 10, 9, 12, 7, 0, 1, 5, 2, 8, 13, 4]\n",
            "[0, 6, 14, 11, 10, 9, 12, 7, 3, 1, 5, 2, 8, 13, 4]\n",
            "------------------------------\n",
            "[0, 1, 14, 11, 10, 9, 12, 7, 3, 6, 5, 2, 8, 13, 4]\n",
            "------------------------------\n",
            "[0, 1, 2, 11, 10, 9, 12, 7, 3, 6, 5, 14, 8, 13, 4]\n",
            "------------------------------\n",
            "[0, 1, 2, 3, 10, 9, 12, 7, 11, 6, 5, 14, 8, 13, 4]\n",
            "------------------------------\n",
            "[0, 1, 2, 3, 4, 9, 12, 7, 11, 6, 5, 14, 8, 13, 10]\n",
            "------------------------------\n",
            "[0, 1, 2, 3, 4, 5, 12, 7, 11, 6, 9, 14, 8, 13, 10]\n",
            "------------------------------\n",
            "[0, 1, 2, 3, 4, 5, 6, 7, 11, 12, 9, 14, 8, 13, 10]\n",
            "------------------------------\n",
            "[0, 1, 2, 3, 4, 5, 6, 7, 11, 12, 9, 14, 8, 13, 10]\n",
            "------------------------------\n",
            "[0, 1, 2, 3, 4, 5, 6, 7, 8, 12, 9, 14, 11, 13, 10]\n",
            "------------------------------\n",
            "[0, 1, 2, 3, 4, 5, 6, 7, 8, 9, 12, 14, 11, 13, 10]\n",
            "------------------------------\n",
            "[0, 1, 2, 3, 4, 5, 6, 7, 8, 9, 10, 14, 11, 13, 12]\n",
            "------------------------------\n",
            "[0, 1, 2, 3, 4, 5, 6, 7, 8, 9, 10, 11, 14, 13, 12]\n",
            "------------------------------\n",
            "[0, 1, 2, 3, 4, 5, 6, 7, 8, 9, 10, 11, 12, 13, 14]\n",
            "------------------------------\n",
            "[0, 1, 2, 3, 4, 5, 6, 7, 8, 9, 10, 11, 12, 13, 14]\n",
            "------------------------------\n",
            "[0, 1, 2, 3, 4, 5, 6, 7, 8, 9, 10, 11, 12, 13, 14]\n"
          ],
          "name": "stdout"
        }
      ]
    }
  ]
}