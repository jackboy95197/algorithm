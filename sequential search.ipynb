{
  "nbformat": 4,
  "nbformat_minor": 0,
  "metadata": {
    "colab": {
      "name": "Untitled1.ipynb",
      "provenance": [],
      "authorship_tag": "ABX9TyMhRts5mIC0A+EyK1v0/J+z",
      "include_colab_link": true
    },
    "kernelspec": {
      "name": "python3",
      "display_name": "Python 3"
    }
  },
  "cells": [
    {
      "cell_type": "markdown",
      "metadata": {
        "id": "view-in-github",
        "colab_type": "text"
      },
      "source": [
        "<a href=\"https://colab.research.google.com/github/jackboy95197/algorithm/blob/master/sequential%20search.ipynb\" target=\"_parent\"><img src=\"https://colab.research.google.com/assets/colab-badge.svg\" alt=\"Open In Colab\"/></a>"
      ]
    },
    {
      "cell_type": "code",
      "metadata": {
        "id": "QAquFo6J51-0",
        "outputId": "950ef2bc-f251-4d89-9fec-1241c2053f76",
        "colab": {
          "base_uri": "https://localhost:8080/",
          "height": 136
        }
      },
      "source": [
        "data = [20,21,50,17,16,36,19,8]\n",
        "\n",
        "def sequential_search(data,key):\n",
        "  for i, t in enumerate(data):\n",
        "    if t == key:\n",
        "      print(\"找到\")\n",
        "      break\n",
        "    else:\n",
        "      print(\"沒找到%s次\" % str(i+1) )\n",
        "      print(\"這次找的數是\",t)\n",
        "      \n",
        "    \n",
        "sequential_search(data,17) "
      ],
      "execution_count": 5,
      "outputs": [
        {
          "output_type": "stream",
          "text": [
            "沒找到1次\n",
            "這次找的數是 20\n",
            "沒找到2次\n",
            "這次找的數是 21\n",
            "沒找到3次\n",
            "這次找的數是 50\n",
            "找到\n"
          ],
          "name": "stdout"
        }
      ]
    }
  ]
}