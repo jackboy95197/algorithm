{
  "nbformat": 4,
  "nbformat_minor": 0,
  "metadata": {
    "colab": {
      "name": "Untitled1.ipynb",
      "provenance": [],
      "authorship_tag": "ABX9TyOmYjL3cJkdH6H0OX81LO3V",
      "include_colab_link": true
    },
    "kernelspec": {
      "name": "python3",
      "display_name": "Python 3"
    }
  },
  "cells": [
    {
      "cell_type": "markdown",
      "metadata": {
        "id": "view-in-github",
        "colab_type": "text"
      },
      "source": [
        "<a href=\"https://colab.research.google.com/github/jackboy95197/algorithm/blob/master/1118%E6%9C%9F%E4%B8%AD%E8%80%83.ipynb\" target=\"_parent\"><img src=\"https://colab.research.google.com/assets/colab-badge.svg\" alt=\"Open In Colab\"/></a>"
      ]
    },
    {
      "cell_type": "code",
      "metadata": {
        "id": "QAquFo6J51-0",
        "colab": {
          "base_uri": "https://localhost:8080/"
        },
        "outputId": "bf00ba32-28a3-4e16-92a1-e499a19f6e29"
      },
      "source": [
        "\n",
        "def Selction_Sort(datas):    #選擇排序\n",
        "    for i in range(len(datas)-1):  \n",
        "        min = i\n",
        "        b=8 #因原始的程式是由小排到大 因此計算方式是1~8 則需要由8開始減至1來做顯示\n",
        "        for j in range(i+1, len(datas)):    \n",
        "            if datas[j] > datas[min]:   #將原本的小至大改成大至小 (>)  \n",
        "                min = j  \n",
        "                b=b-1\n",
        "            else:\n",
        "                b=b-1\n",
        "        datas[i], datas[min] = datas[min], datas[i] \n",
        "        print(\"第%d次數列\"%b)\n",
        "        print(datas) \n",
        "        print('---'*10) \n",
        "    return datas \n",
        "\n",
        "\n",
        "if __name__ == '__main__': \n",
        "    import random\n",
        "    a = list(range(8)) \n",
        "    random.shuffle(a)\n",
        "    print(\"原始數列:\"%a)\n",
        "    a = Selction_Sort(a)\n",
        "    print(a)"
      ],
      "execution_count": 7,
      "outputs": [
        {
          "output_type": "stream",
          "text": [
            "原始數列:\n",
            "第1次數列\n",
            "[7, 3, 4, 5, 2, 0, 6, 1]\n",
            "------------------------------\n",
            "第2次數列\n",
            "[7, 6, 4, 5, 2, 0, 3, 1]\n",
            "------------------------------\n",
            "第3次數列\n",
            "[7, 6, 5, 4, 2, 0, 3, 1]\n",
            "------------------------------\n",
            "第4次數列\n",
            "[7, 6, 5, 4, 2, 0, 3, 1]\n",
            "------------------------------\n",
            "第5次數列\n",
            "[7, 6, 5, 4, 3, 0, 2, 1]\n",
            "------------------------------\n",
            "第6次數列\n",
            "[7, 6, 5, 4, 3, 2, 0, 1]\n",
            "------------------------------\n",
            "第7次數列\n",
            "[7, 6, 5, 4, 3, 2, 1, 0]\n",
            "------------------------------\n",
            "[7, 6, 5, 4, 3, 2, 1, 0]\n"
          ],
          "name": "stdout"
        }
      ]
    },
    {
      "cell_type": "code",
      "metadata": {
        "colab": {
          "base_uri": "https://localhost:8080/"
        },
        "id": "BAYe93QOp8Lh",
        "outputId": "5f2848e0-e925-47e4-f61a-83cf112d7292"
      },
      "source": [
        "\n",
        "def Insertion_Sort(datas):   #插入排序\n",
        "    for i in range(1, len(datas)):\n",
        "      c=0  \n",
        "      for j in range(i):\n",
        "           \n",
        "        current = datas[i] \n",
        "        if current > datas[j]:\n",
        "          c=c+1\n",
        "          \n",
        "        else:\n",
        "          c=c+1\n",
        "          \n",
        "      print(\"第%d次數列\"%c)\n",
        "\n",
        "      return datas \n",
        "\n",
        "\n",
        "def insertionSort(arr):\n",
        "    for i in range(len(arr)):\n",
        "        preIndex = i-1\n",
        "        current = arr[i]\n",
        "        while preIndex >= 0 and arr[preIndex] > current:\n",
        "            arr[preIndex+1] = arr[preIndex]\n",
        "            preIndex-=1\n",
        "        arr[preIndex+1] = current\n",
        "        \n",
        "        print(arr)\n",
        "         \n",
        "    return arr\n",
        "\n",
        "if __name__ == '__main__':\n",
        "    import random\n",
        "    a = list(range(8))\n",
        "    random.shuffle(a)\n",
        "    b = a.copy()\n",
        "    print(\"原始數列\"%a)\n",
        "    Insertion_Sort(b)\n",
        "    arr = insertionSort(a)\n",
        "    "
      ],
      "execution_count": 66,
      "outputs": [
        {
          "output_type": "stream",
          "text": [
            "原始數列\n",
            "第1次數列\n",
            "[4, 0, 3, 1, 2, 6, 7, 5]\n",
            "[0, 4, 3, 1, 2, 6, 7, 5]\n",
            "[0, 3, 4, 1, 2, 6, 7, 5]\n",
            "[0, 1, 3, 4, 2, 6, 7, 5]\n",
            "[0, 1, 2, 3, 4, 6, 7, 5]\n",
            "[0, 1, 2, 3, 4, 6, 7, 5]\n",
            "[0, 1, 2, 3, 4, 6, 7, 5]\n",
            "[0, 1, 2, 3, 4, 5, 6, 7]\n"
          ],
          "name": "stdout"
        }
      ]
    }
  ]
}