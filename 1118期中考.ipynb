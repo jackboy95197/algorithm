{
  "nbformat": 4,
  "nbformat_minor": 0,
  "metadata": {
    "colab": {
      "name": "Untitled1.ipynb",
      "provenance": [],
      "authorship_tag": "ABX9TyNaZ0i2KbtOCyao3F6QFmXp",
      "include_colab_link": true
    },
    "kernelspec": {
      "name": "python3",
      "display_name": "Python 3"
    }
  },
  "cells": [
    {
      "cell_type": "markdown",
      "metadata": {
        "id": "view-in-github",
        "colab_type": "text"
      },
      "source": [
        "<a href=\"https://colab.research.google.com/github/jackboy95197/algorithm/blob/master/1118%E6%9C%9F%E4%B8%AD%E8%80%83.ipynb\" target=\"_parent\"><img src=\"https://colab.research.google.com/assets/colab-badge.svg\" alt=\"Open In Colab\"/></a>"
      ]
    },
    {
      "cell_type": "code",
      "metadata": {
        "id": "QAquFo6J51-0",
        "colab": {
          "base_uri": "https://localhost:8080/"
        },
        "outputId": "f2650714-5f4a-4650-d85e-3d230606968c"
      },
      "source": [
        "\n",
        "def Selction_Sort(datas):    #選擇排序\n",
        "    for i in range(len(datas)-1):  \n",
        "        min = i\n",
        "        b=8 #因原始的程式是由小排到大 因此計算方式是1~8 則需要由8開始減至1來做顯示\n",
        "        for j in range(i+1, len(datas)):    \n",
        "            if datas[j] > datas[min]:   #將原本的小至大改成大至小 (>)  \n",
        "                min = j  \n",
        "                b=b-1\n",
        "            else:\n",
        "                b=b-1   #if 跟else 都需要-1 才會兩者都有包含在第%d次數列裡面\n",
        "        datas[i], datas[min] = datas[min], datas[i] \n",
        "        print(\"第%d次數列\"%b)\n",
        "        print(datas) \n",
        "        print('---'*10) \n",
        "    return datas \n",
        "\n",
        "\n",
        "if __name__ == '__main__': \n",
        "    import random\n",
        "    a = list(range(1,9)) #把RANGE改成裡面共有8個數並做洗牌\n",
        "    random.shuffle(a)\n",
        "    print(\"原始數列:\"%a)\n",
        "    a = Selction_Sort(a)\n",
        "    print(a)"
      ],
      "execution_count": null,
      "outputs": [
        {
          "output_type": "stream",
          "text": [
            "原始數列:\n",
            "第1次數列\n",
            "[8, 4, 6, 3, 7, 5, 1, 2]\n",
            "------------------------------\n",
            "第2次數列\n",
            "[8, 7, 6, 3, 4, 5, 1, 2]\n",
            "------------------------------\n",
            "第3次數列\n",
            "[8, 7, 6, 3, 4, 5, 1, 2]\n",
            "------------------------------\n",
            "第4次數列\n",
            "[8, 7, 6, 5, 4, 3, 1, 2]\n",
            "------------------------------\n",
            "第5次數列\n",
            "[8, 7, 6, 5, 4, 3, 1, 2]\n",
            "------------------------------\n",
            "第6次數列\n",
            "[8, 7, 6, 5, 4, 3, 1, 2]\n",
            "------------------------------\n",
            "第7次數列\n",
            "[8, 7, 6, 5, 4, 3, 2, 1]\n",
            "------------------------------\n",
            "[8, 7, 6, 5, 4, 3, 2, 1]\n"
          ],
          "name": "stdout"
        }
      ]
    },
    {
      "cell_type": "code",
      "metadata": {
        "colab": {
          "base_uri": "https://localhost:8080/"
        },
        "id": "BAYe93QOp8Lh",
        "outputId": "332672f0-d1fa-4fef-9798-341f88490068"
      },
      "source": [
        "\n",
        "def insertionsort(arr): #插入排序\n",
        "  for i in range(0,len(arr)):         \n",
        "    index=i        #index是用來設界線\n",
        "    while arr[index]<arr[index-1] and index>0:    #同之前的插入排序 只是把裡面的大小符號換邊即可由小到大\n",
        "      buffer=arr[index]            \n",
        "      arr[index]=arr[index-1]         \n",
        "      arr[index-1]=buffer           \n",
        "      index-=1                #置換左右兩數是為當前所要判定的數做邊界判定\n",
        "    print(\"第\",i+1,\"次數列 \",arr)                 \n",
        "\n",
        "import random\n",
        "list=[]\n",
        "for i in range(8):    #將裡面的數設1~9 讓裡面有8個數\n",
        "  a=random.randint(1,100)\n",
        "  list.append(a)   #將隨機數a放進LIST裡面做INSERTION SORT\n",
        "print(\"原始數列\",list)\n",
        "insertionsort(list)\n",
        "    "
      ],
      "execution_count": 2,
      "outputs": [
        {
          "output_type": "stream",
          "text": [
            "原始數列 [82, 32, 54, 39, 26, 68, 73, 93]\n",
            "第 1 次數列  [82, 32, 54, 39, 26, 68, 73, 93]\n",
            "第 2 次數列  [32, 82, 54, 39, 26, 68, 73, 93]\n",
            "第 3 次數列  [32, 54, 82, 39, 26, 68, 73, 93]\n",
            "第 4 次數列  [32, 39, 54, 82, 26, 68, 73, 93]\n",
            "第 5 次數列  [26, 32, 39, 54, 82, 68, 73, 93]\n",
            "第 6 次數列  [26, 32, 39, 54, 68, 82, 73, 93]\n",
            "第 7 次數列  [26, 32, 39, 54, 68, 73, 82, 93]\n",
            "第 8 次數列  [26, 32, 39, 54, 68, 73, 82, 93]\n"
          ],
          "name": "stdout"
        }
      ]
    }
  ]
}