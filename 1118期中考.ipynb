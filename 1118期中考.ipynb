{
  "nbformat": 4,
  "nbformat_minor": 0,
  "metadata": {
    "colab": {
      "name": "Untitled1.ipynb",
      "provenance": [],
      "authorship_tag": "ABX9TyMr7dfZXE9yxxqIZkvCsGDI",
      "include_colab_link": true
    },
    "kernelspec": {
      "name": "python3",
      "display_name": "Python 3"
    }
  },
  "cells": [
    {
      "cell_type": "markdown",
      "metadata": {
        "id": "view-in-github",
        "colab_type": "text"
      },
      "source": [
        "<a href=\"https://colab.research.google.com/github/jackboy95197/algorithm/blob/master/1118%E6%9C%9F%E4%B8%AD%E8%80%83.ipynb\" target=\"_parent\"><img src=\"https://colab.research.google.com/assets/colab-badge.svg\" alt=\"Open In Colab\"/></a>"
      ]
    },
    {
      "cell_type": "code",
      "metadata": {
        "id": "QAquFo6J51-0",
        "colab": {
          "base_uri": "https://localhost:8080/"
        },
        "outputId": "f3715e11-9bc0-46e5-e8cf-6c5aaa0d8235"
      },
      "source": [
        "\n",
        "def Selction_Sort(datas):\n",
        "    for i in range(len(datas)-1):  #n\n",
        "        min = i # 1\n",
        "        for j in range(i+1, len(datas)):    # n^2\n",
        "            if datas[j] > datas[min]:    # 1\n",
        "                min = j  # 1\n",
        "\n",
        "        datas[i], datas[min] = datas[min], datas[i] # 1\n",
        "\n",
        "        print(datas) # 1\n",
        "        print('---'*10) # 1\n",
        "    return datas # 1\n",
        "## (n+1)*n^2+1+1 = BIG-O(n^3)\n",
        "\n",
        "if __name__ == '__main__': \n",
        "    import random\n",
        "    a = list(range(8)) \n",
        "    random.shuffle(a)\n",
        "    print(a)\n",
        "    a = Selction_Sort(a)\n",
        "    print(a)"
      ],
      "execution_count": 30,
      "outputs": [
        {
          "output_type": "stream",
          "text": [
            "[4, 1, 3, 6, 5, 0, 2, 7]\n",
            "[7, 1, 3, 6, 5, 0, 2, 4]\n",
            "------------------------------\n",
            "[7, 6, 3, 1, 5, 0, 2, 4]\n",
            "------------------------------\n",
            "[7, 6, 5, 1, 3, 0, 2, 4]\n",
            "------------------------------\n",
            "[7, 6, 5, 4, 3, 0, 2, 1]\n",
            "------------------------------\n",
            "[7, 6, 5, 4, 3, 0, 2, 1]\n",
            "------------------------------\n",
            "[7, 6, 5, 4, 3, 2, 0, 1]\n",
            "------------------------------\n",
            "[7, 6, 5, 4, 3, 2, 1, 0]\n",
            "------------------------------\n",
            "[7, 6, 5, 4, 3, 2, 1, 0]\n"
          ],
          "name": "stdout"
        }
      ]
    }
  ]
}