{
  "nbformat": 4,
  "nbformat_minor": 0,
  "metadata": {
    "colab": {
      "name": "Untitled1.ipynb",
      "provenance": [],
      "authorship_tag": "ABX9TyPwzZ55xdkmCWfPM66gvtKi",
      "include_colab_link": true
    },
    "kernelspec": {
      "name": "python3",
      "display_name": "Python 3"
    }
  },
  "cells": [
    {
      "cell_type": "markdown",
      "metadata": {
        "id": "view-in-github",
        "colab_type": "text"
      },
      "source": [
        "<a href=\"https://colab.research.google.com/github/jackboy95197/algorithm/blob/master/selction.ipynb\" target=\"_parent\"><img src=\"https://colab.research.google.com/assets/colab-badge.svg\" alt=\"Open In Colab\"/></a>"
      ]
    },
    {
      "cell_type": "code",
      "metadata": {
        "id": "QAquFo6J51-0",
        "colab_type": "code",
        "colab": {
          "base_uri": "https://localhost:8080/",
          "height": 357
        },
        "outputId": "bb4d49ec-8a9f-4108-8a0c-840ed2def129"
      },
      "source": [
        "def Selction_Sort(datas):\n",
        "    for i in range(len(datas)-1):\n",
        "        min = i # 第一次選從第一個數開始,第二次從第二個數開始\n",
        "        for j in range(i+1, len(datas)):    # 用記錄的max數與其他的比較\n",
        "            if datas[j] < datas[min]:\n",
        "                min = j\n",
        "\n",
        "        datas[i], datas[min] = datas[min], datas[i]\n",
        "\n",
        "        print(datas)\n",
        "        print('---'*10)\n",
        "    return datas\n",
        "\n",
        "\n",
        "if __name__ == '__main__':\n",
        "    import random\n",
        "    a = list(range(10))\n",
        "    random.shuffle(a)\n",
        "    print(a)\n",
        "    a = Selction_Sort(a)\n",
        "    print(a)"
      ],
      "execution_count": 2,
      "outputs": [
        {
          "output_type": "stream",
          "text": [
            "[1, 0, 5, 6, 8, 3, 9, 4, 2, 7]\n",
            "[0, 1, 5, 6, 8, 3, 9, 4, 2, 7]\n",
            "------------------------------\n",
            "[0, 1, 5, 6, 8, 3, 9, 4, 2, 7]\n",
            "------------------------------\n",
            "[0, 1, 2, 6, 8, 3, 9, 4, 5, 7]\n",
            "------------------------------\n",
            "[0, 1, 2, 3, 8, 6, 9, 4, 5, 7]\n",
            "------------------------------\n",
            "[0, 1, 2, 3, 4, 6, 9, 8, 5, 7]\n",
            "------------------------------\n",
            "[0, 1, 2, 3, 4, 5, 9, 8, 6, 7]\n",
            "------------------------------\n",
            "[0, 1, 2, 3, 4, 5, 6, 8, 9, 7]\n",
            "------------------------------\n",
            "[0, 1, 2, 3, 4, 5, 6, 7, 9, 8]\n",
            "------------------------------\n",
            "[0, 1, 2, 3, 4, 5, 6, 7, 8, 9]\n",
            "------------------------------\n",
            "[0, 1, 2, 3, 4, 5, 6, 7, 8, 9]\n"
          ],
          "name": "stdout"
        }
      ]
    }
  ]
}