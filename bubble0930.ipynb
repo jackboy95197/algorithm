{
  "nbformat": 4,
  "nbformat_minor": 0,
  "metadata": {
    "colab": {
      "name": "Untitled0.ipynb",
      "provenance": [],
      "authorship_tag": "ABX9TyP3RKJlZqZ9dNVt2B/Zwgkh",
      "include_colab_link": true
    },
    "kernelspec": {
      "name": "python3",
      "display_name": "Python 3"
    }
  },
  "cells": [
    {
      "cell_type": "markdown",
      "metadata": {
        "id": "view-in-github",
        "colab_type": "text"
      },
      "source": [
        "<a href=\"https://colab.research.google.com/github/jackboy95197/algorithm/blob/master/bubble0930.ipynb\" target=\"_parent\"><img src=\"https://colab.research.google.com/assets/colab-badge.svg\" alt=\"Open In Colab\"/></a>"
      ]
    },
    {
      "cell_type": "code",
      "metadata": {
        "id": "YhA2mMCl3ZLa",
        "outputId": "acfdc097-b0eb-48f0-b2d6-5d59d0de3a95",
        "colab": {
          "base_uri": "https://localhost:8080/",
          "height": 306
        }
      },
      "source": [
        "def Bubble_Sort(datas):\n",
        "    for i in range(1, len(datas)):  \n",
        "        for j in range(len(datas)-i):    \n",
        "            if datas[j] > datas[j+1]:   \n",
        "                datas[j], datas[j+1] = datas[j+1], datas[j]\n",
        "                print(datas) # 影印出DATAS\n",
        "    return datas\n",
        "\n",
        "\n",
        "if __name__ == '__main__':\n",
        "    import random\n",
        "    # a = list(range(99))\n",
        "    b = input(\"輸入6個數\") #將數字INPUT進去 得出B\n",
        "    c = b.split(\" \")#用空白鍵分別出來 得出C\n",
        "    if   len(c)!=6:\n",
        "      print(\"error\")\n",
        "    else: \n",
        "    \n",
        "      a = Bubble_Sort(c)\n",
        "      print(a)"
      ],
      "execution_count": 5,
      "outputs": [
        {
          "output_type": "stream",
          "text": [
            "輸入6個數6 5 4 3 2 1\n",
            "['5', '6', '4', '3', '2', '1']\n",
            "['5', '4', '6', '3', '2', '1']\n",
            "['5', '4', '3', '6', '2', '1']\n",
            "['5', '4', '3', '2', '6', '1']\n",
            "['5', '4', '3', '2', '1', '6']\n",
            "['4', '5', '3', '2', '1', '6']\n",
            "['4', '3', '5', '2', '1', '6']\n",
            "['4', '3', '2', '5', '1', '6']\n",
            "['4', '3', '2', '1', '5', '6']\n",
            "['3', '4', '2', '1', '5', '6']\n",
            "['3', '2', '4', '1', '5', '6']\n",
            "['3', '2', '1', '4', '5', '6']\n",
            "['2', '3', '1', '4', '5', '6']\n",
            "['2', '1', '3', '4', '5', '6']\n",
            "['1', '2', '3', '4', '5', '6']\n",
            "['1', '2', '3', '4', '5', '6']\n"
          ],
          "name": "stdout"
        }
      ]
    }
  ]
}