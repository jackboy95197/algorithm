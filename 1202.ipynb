{
  "nbformat": 4,
  "nbformat_minor": 0,
  "metadata": {
    "colab": {
      "name": "Untitled0.ipynb",
      "provenance": [],
      "include_colab_link": true
    },
    "kernelspec": {
      "name": "python3",
      "display_name": "Python 3"
    }
  },
  "cells": [
    {
      "cell_type": "markdown",
      "metadata": {
        "id": "view-in-github",
        "colab_type": "text"
      },
      "source": [
        "<a href=\"https://colab.research.google.com/github/jackboy95197/algorithm/blob/master/1202.ipynb\" target=\"_parent\"><img src=\"https://colab.research.google.com/assets/colab-badge.svg\" alt=\"Open In Colab\"/></a>"
      ]
    },
    {
      "cell_type": "code",
      "metadata": {
        "id": "YhA2mMCl3ZLa",
        "colab": {
          "base_uri": "https://localhost:8080/"
        },
        "outputId": "9e6bf004-316f-45d0-e965-5fcd6861f77c"
      },
      "source": [
        "#t=面額\n",
        "t=[25,20,5,1]\n",
        "\n",
        "#n=多少錢\n",
        "def change(t,n):\n",
        "  m=[0 for _ in range(len(t))]\n",
        "  for i , money in enumerate(t):\n",
        "    m[i] = n//money\n",
        "    n=n % money\n",
        "  return m ,n\n",
        "  \n",
        "print(change(t,41))"
      ],
      "execution_count": 15,
      "outputs": [
        {
          "output_type": "stream",
          "text": [
            "([1, 0, 3, 1], 0)\n"
          ],
          "name": "stdout"
        }
      ]
    },
    {
      "cell_type": "code",
      "metadata": {
        "colab": {
          "base_uri": "https://localhost:8080/"
        },
        "id": "7r1vP0KnUMP-",
        "outputId": "c8702690-c69c-4e0e-c129-75c6a66fb699"
      },
      "source": [
        "#t=面額\n",
        "t=[25,20,5,1]\n",
        "\n",
        "#n=多少錢\n",
        "def change(t,n):\n",
        "  m=[0 for _ in range(len(t))]\n",
        "  for i , money in enumerate(t):\n",
        "    m[i] = n//money\n",
        "    n=n % money\n",
        "    print(\"已兌換的面額\", m)\n",
        "    print(\"剩餘%d元\"%n)\n",
        "  return m ,n\n",
        "print(\"共有25,20,5,1元\")\n",
        "mon=int(input(\"輸入需要的面額\"))  \n",
        "print(change(t,mon))"
      ],
      "execution_count": 14,
      "outputs": [
        {
          "output_type": "stream",
          "text": [
            "共有25,20,5,1元\n",
            "輸入需要的面額59\n",
            "已兌換的面額 [2, 0, 0, 0]\n",
            "剩餘9元\n",
            "已兌換的面額 [2, 0, 0, 0]\n",
            "剩餘9元\n",
            "已兌換的面額 [2, 0, 1, 0]\n",
            "剩餘4元\n",
            "已兌換的面額 [2, 0, 1, 4]\n",
            "剩餘0元\n",
            "([2, 0, 1, 4], 0)\n"
          ],
          "name": "stdout"
        }
      ]
    },
    {
      "cell_type": "code",
      "metadata": {
        "id": "DJw2uNbNTyQ1"
      },
      "source": [
        "goods = [(17, 5), (35, 1), (60, 4), (9, 3), (20, 2)]\n",
        " # 我們需要對商品首先進行排序，當然這裡是排好序的 \n",
        "goods.sort(key=lambda x: x[0]/x[1], reverse=True) \n",
        " # w 表示背包的容量 \n",
        "def fractional_backpack(goods, w):\n",
        "\n",
        "   # m 表示每個商品拿走多少個 \n",
        "  total_v = 0 \n",
        "  m = [0 for _ in range(len(goods))] \n",
        "  for i, (prize, weight) in enumerate(goods):\n",
        "    print(i, price)\n",
        "    if w >= weight: \n",
        "\n",
        "      m[i] = 1 \n",
        "      total_v += prize \n",
        "      w -= weight \n",
        "     # m[i] = 1 if w>= weight else weight / w \n",
        "\n",
        "    return m, total_v \n",
        "res1,res2 = fractional_backpack(goods, 10) \n",
        "print(res1, res2)\n"
      ],
      "execution_count": null,
      "outputs": []
    },
    {
      "cell_type": "code",
      "metadata": {
        "id": "o-cOQKlLVUQ_",
        "outputId": "827bde20-e083-4bb1-8cd4-b12e4b530e57",
        "colab": {
          "base_uri": "https://localhost:8080/"
        }
      },
      "source": [
        "\n",
        "def change(amount, coins):\n",
        "  dp = [1] + [0] * (amount);    \n",
        "  for coin in coins:\n",
        "    for i in range(amount - coin + 1):\n",
        "      \n",
        "      if dp[i]:\n",
        "        dp[i + coin] += dp[i]\n",
        "        #print(coin)\n",
        "  return dp[amount],dp[coin]\n",
        "\n",
        "print(change(10,[5,1,4,3,2]))\n",
        "\n"
      ],
      "execution_count": 52,
      "outputs": [
        {
          "output_type": "stream",
          "text": [
            "(30, 2)\n"
          ],
          "name": "stdout"
        }
      ]
    }
  ]
}