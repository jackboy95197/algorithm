{
  "nbformat": 4,
  "nbformat_minor": 0,
  "metadata": {
    "colab": {
      "name": "Untitled0.ipynb",
      "provenance": [],
      "include_colab_link": true
    },
    "kernelspec": {
      "name": "python3",
      "display_name": "Python 3"
    }
  },
  "cells": [
    {
      "cell_type": "markdown",
      "metadata": {
        "id": "view-in-github",
        "colab_type": "text"
      },
      "source": [
        "<a href=\"https://colab.research.google.com/github/jackboy95197/algorithm/blob/master/1202.ipynb\" target=\"_parent\"><img src=\"https://colab.research.google.com/assets/colab-badge.svg\" alt=\"Open In Colab\"/></a>"
      ]
    },
    {
      "cell_type": "code",
      "metadata": {
        "id": "YhA2mMCl3ZLa",
        "colab": {
          "base_uri": "https://localhost:8080/"
        },
        "outputId": "44b9b679-0070-41fb-e4d2-349e3655bc4c"
      },
      "source": [
        "#t=面額\n",
        "t=[25,20,5,1]\n",
        "\n",
        "#n=多少錢\n",
        "def change(t,n):\n",
        "  m=[0 for _ in range(len(t))]\n",
        "  for i , money in enumerate(t):\n",
        "    m[i] = n//money\n",
        "    n=n % money\n",
        "    print(\"已兌換的面額\", m)\n",
        "    print(\"剩餘%d元\"%n)\n",
        "  return m ,n\n",
        "print(\"共有25,20,5,1元\")\n",
        "mon=int(input(\"輸入需要的面額\"))  \n",
        "print(change(t,mon))"
      ],
      "execution_count": 45,
      "outputs": [
        {
          "output_type": "stream",
          "text": [
            "共有25,20,5,1元\n",
            "輸入需要的面額41\n",
            "已兌換的面額 [1, 0, 0, 0]\n",
            "剩餘16元\n",
            "已兌換的面額 [1, 0, 0, 0]\n",
            "剩餘16元\n",
            "已兌換的面額 [1, 0, 3, 0]\n",
            "剩餘1元\n",
            "已兌換的面額 [1, 0, 3, 1]\n",
            "剩餘0元\n",
            "([1, 0, 3, 1], 0)\n"
          ],
          "name": "stdout"
        }
      ]
    },
    {
      "cell_type": "code",
      "metadata": {
        "colab": {
          "base_uri": "https://localhost:8080/"
        },
        "id": "7r1vP0KnUMP-",
        "outputId": "541f5761-d163-4919-b99d-53949e6c21b0"
      },
      "source": [
        "class Solution(object):\n",
        "   def coinChange(self, coins, amount):\n",
        "      if amount == 0 :\n",
        "         return 0\n",
        "      if min(coins) > amount:\n",
        "         return -1\n",
        "      dp = [-1 for i in range(0, amount + 1)]\n",
        "      for i in coins:\n",
        "         if i > len(dp) - 1:\n",
        "            continue\n",
        "         dp[i] = 1\n",
        "         for j in range(i + 1, amount + 1):\n",
        "            if dp[j - i] == -1:\n",
        "               continue\n",
        "            elif dp[j] == -1:\n",
        "               dp[j] = dp[j - i] + 1\n",
        "            else:\n",
        "               dp[j] = min(dp[j], dp[j - i] + 1)\n",
        "         #print(dp)\n",
        "      return dp[amount]\n",
        "ob1 = Solution()\n",
        "print(\"拿到最少硬幣的方法=\" ,ob1.coinChange([25,20,5,1], 41))"
      ],
      "execution_count": 52,
      "outputs": [
        {
          "output_type": "stream",
          "text": [
            "拿到最少硬幣的方法= 3\n"
          ],
          "name": "stdout"
        }
      ]
    },
    {
      "cell_type": "code",
      "metadata": {
        "id": "DJw2uNbNTyQ1",
        "colab": {
          "base_uri": "https://localhost:8080/"
        },
        "outputId": "a9b82c0e-6e00-4276-ba11-bc3f69a6350f"
      },
      "source": [
        "goods = [(17000, 5), (35000, 1), (60000, 4), (9000, 3), (20000, 2)]\n",
        " # 我們需要對商品首先進行排序，當然這裡是排好序的 \n",
        "goods.sort(key=lambda x: x[0]/x[1], reverse=True) \n",
        " # w 表示背包的容量 \n",
        "def fractional_backpack(goods, w):\n",
        "\n",
        "   # m 表示每個商品拿走多少個 \n",
        "  total_v = 0 \n",
        "  m = [0 for _ in range(len(goods))] \n",
        "  for i, (prize, weight) in enumerate(goods):\n",
        "    if w >= weight: \n",
        "      m[i] = 1 \n",
        "      total_v += prize \n",
        "      w -= weight  #如果最後選擇會爆掉公斤數 則會選擇價格略低的來補足公斤\n",
        "     # m[i] = 1 if w>= weight else weight / w \n",
        "\n",
        "  return m, total_v \n",
        "res1,res2 = fractional_backpack(goods, 10) \n",
        "print(res1, res2)\n"
      ],
      "execution_count": 40,
      "outputs": [
        {
          "output_type": "stream",
          "text": [
            "[1, 1, 1, 0, 1] 124000\n"
          ],
          "name": "stdout"
        }
      ]
    },
    {
      "cell_type": "code",
      "metadata": {
        "id": "o-cOQKlLVUQ_",
        "colab": {
          "base_uri": "https://localhost:8080/"
        },
        "outputId": "6dbc804a-568d-4dd0-fd3a-42cbddbee8ef"
      },
      "source": [
        "def bag(n,c,w,v):\n",
        "\tres=[[-1 for j in range(c+1)] for i in range(n+1)]\n",
        "\tfor j in range(c+1):\n",
        "\t\tres[0][j]=0\n",
        "\tfor i in range(1,n+1):\n",
        "\t\tfor j in range(1,c+1):\n",
        "\t\t\tres[i][j]=res[i-1][j]\n",
        "\t\t\tif j>=w[i-1] and res[i][j]<res[i-1][j-w[i-1]]+v[i-1]:\n",
        "\t\t\t\tres[i][j]=res[i-1][j-w[i-1]]+v[i-1]\n",
        "\treturn res\n",
        "\n",
        "def show(n,c,w,res):\n",
        "\tprint('最大價值為:',res[n][c])\n",
        "\tx=[False for i in range(n)]\n",
        "\tj=c\n",
        "\tfor i in range(1,n+1):\n",
        "\t\tif res[i][j]>res[i-1][j]:\n",
        "\t\t\tx[i-1]=True\n",
        "\t\t\tj-=w[i-1]\n",
        "\tprint('選擇的物品為:')\n",
        "\tfor i in range(n):\n",
        "\t\tif x[i]:\n",
        "\t\t\tprint('第',i+1,'個,',end='')\n",
        "\tprint('')\n",
        "\n",
        "if __name__=='__main__':\n",
        "\tn=5\n",
        "\tc=10\n",
        "\tw=[1,2,3,4,5]\n",
        "\tv=[35000,20000,9000,60000,17000]\n",
        "\tres=bag(n,c,w,v)\n",
        "\tshow(n,c,w,res)\n"
      ],
      "execution_count": 46,
      "outputs": [
        {
          "output_type": "stream",
          "text": [
            "最大價值為: 124000\n",
            "選擇的物品為:\n",
            "第 1 個,第 2 個,第 3 個,第 4 個,\n"
          ],
          "name": "stdout"
        }
      ]
    }
  ]
}