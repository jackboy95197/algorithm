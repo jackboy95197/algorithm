{
  "nbformat": 4,
  "nbformat_minor": 0,
  "metadata": {
    "colab": {
      "name": "Untitled0.ipynb",
      "provenance": [],
      "include_colab_link": true
    },
    "kernelspec": {
      "name": "python3",
      "display_name": "Python 3"
    }
  },
  "cells": [
    {
      "cell_type": "markdown",
      "metadata": {
        "id": "view-in-github",
        "colab_type": "text"
      },
      "source": [
        "<a href=\"https://colab.research.google.com/github/jackboy95197/algorithm/blob/master/1202.ipynb\" target=\"_parent\"><img src=\"https://colab.research.google.com/assets/colab-badge.svg\" alt=\"Open In Colab\"/></a>"
      ]
    },
    {
      "cell_type": "code",
      "metadata": {
        "id": "YhA2mMCl3ZLa",
        "colab": {
          "base_uri": "https://localhost:8080/"
        },
        "outputId": "b56c0b48-595f-4fa4-9726-804d73591f49"
      },
      "source": [
        "#t=面額\n",
        "t=[25,20,5,1]\n",
        "\n",
        "#n=多少錢\n",
        "def change(t,n):\n",
        "  m=[0 for _ in range(len(t))]\n",
        "  for i , money in enumerate(t):\n",
        "    m[i] = n//money\n",
        "    n=n % money\n",
        "    print(\"已兌換的面額\", m)\n",
        "    print(\"剩餘%d元\"%n)\n",
        "  return m ,n\n",
        "print(\"共有25,20,5,1元\")\n",
        "mon=int(input(\"輸入需要的面額\"))  \n",
        "print(change(t,mon))"
      ],
      "execution_count": 11,
      "outputs": [
        {
          "output_type": "stream",
          "text": [
            "共有25,20,5,1元\n",
            "輸入需要的面額58\n",
            "已兌換的面額 [2, 0, 0, 0]\n",
            "剩餘8元\n",
            "已兌換的面額 [2, 0, 0, 0]\n",
            "剩餘8元\n",
            "已兌換的面額 [2, 0, 1, 0]\n",
            "剩餘3元\n",
            "已兌換的面額 [2, 0, 1, 3]\n",
            "剩餘0元\n",
            "([2, 0, 1, 3], 0)\n"
          ],
          "name": "stdout"
        }
      ]
    }
  ]
}