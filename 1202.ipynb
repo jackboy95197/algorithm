{
  "nbformat": 4,
  "nbformat_minor": 0,
  "metadata": {
    "colab": {
      "name": "Untitled0.ipynb",
      "provenance": [],
      "include_colab_link": true
    },
    "kernelspec": {
      "name": "python3",
      "display_name": "Python 3"
    }
  },
  "cells": [
    {
      "cell_type": "markdown",
      "metadata": {
        "id": "view-in-github",
        "colab_type": "text"
      },
      "source": [
        "<a href=\"https://colab.research.google.com/github/jackboy95197/algorithm/blob/master/1202.ipynb\" target=\"_parent\"><img src=\"https://colab.research.google.com/assets/colab-badge.svg\" alt=\"Open In Colab\"/></a>"
      ]
    },
    {
      "cell_type": "code",
      "metadata": {
        "id": "YhA2mMCl3ZLa",
        "colab": {
          "base_uri": "https://localhost:8080/"
        },
        "outputId": "9dd37313-6a72-4315-b872-afac7bbd721a"
      },
      "source": [
        "#t=面額\n",
        "t=[25,20,5,1]\n",
        "\n",
        "#n=多少錢\n",
        "def change(t,n):\n",
        "  m=[0 for _ in range(len(t))]\n",
        "  for i , money in enumerate(t):\n",
        "    m[i] = n//money\n",
        "    n=n % money\n",
        "  return m ,n\n",
        "  \n",
        "print(change(t,41))"
      ],
      "execution_count": 13,
      "outputs": [
        {
          "output_type": "stream",
          "text": [
            "([1, 0, 3, 1], 0)\n"
          ],
          "name": "stdout"
        }
      ]
    },
    {
      "cell_type": "code",
      "metadata": {
        "colab": {
          "base_uri": "https://localhost:8080/"
        },
        "id": "7r1vP0KnUMP-",
        "outputId": "c8702690-c69c-4e0e-c129-75c6a66fb699"
      },
      "source": [
        "#t=面額\n",
        "t=[25,20,5,1]\n",
        "\n",
        "#n=多少錢\n",
        "def change(t,n):\n",
        "  m=[0 for _ in range(len(t))]\n",
        "  for i , money in enumerate(t):\n",
        "    m[i] = n//money\n",
        "    n=n % money\n",
        "    print(\"已兌換的面額\", m)\n",
        "    print(\"剩餘%d元\"%n)\n",
        "  return m ,n\n",
        "print(\"共有25,20,5,1元\")\n",
        "mon=int(input(\"輸入需要的面額\"))  \n",
        "print(change(t,mon))"
      ],
      "execution_count": 14,
      "outputs": [
        {
          "output_type": "stream",
          "text": [
            "共有25,20,5,1元\n",
            "輸入需要的面額59\n",
            "已兌換的面額 [2, 0, 0, 0]\n",
            "剩餘9元\n",
            "已兌換的面額 [2, 0, 0, 0]\n",
            "剩餘9元\n",
            "已兌換的面額 [2, 0, 1, 0]\n",
            "剩餘4元\n",
            "已兌換的面額 [2, 0, 1, 4]\n",
            "剩餘0元\n",
            "([2, 0, 1, 4], 0)\n"
          ],
          "name": "stdout"
        }
      ]
    },
    {
      "cell_type": "code",
      "metadata": {
        "id": "DJw2uNbNTyQ1"
      },
      "source": [
        ""
      ],
      "execution_count": null,
      "outputs": []
    }
  ]
}