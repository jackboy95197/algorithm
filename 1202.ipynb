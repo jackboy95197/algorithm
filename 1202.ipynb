{
  "nbformat": 4,
  "nbformat_minor": 0,
  "metadata": {
    "colab": {
      "name": "Untitled0.ipynb",
      "provenance": [],
      "include_colab_link": true
    },
    "kernelspec": {
      "name": "python3",
      "display_name": "Python 3"
    }
  },
  "cells": [
    {
      "cell_type": "markdown",
      "metadata": {
        "id": "view-in-github",
        "colab_type": "text"
      },
      "source": [
        "<a href=\"https://colab.research.google.com/github/jackboy95197/algorithm/blob/master/1202.ipynb\" target=\"_parent\"><img src=\"https://colab.research.google.com/assets/colab-badge.svg\" alt=\"Open In Colab\"/></a>"
      ]
    },
    {
      "cell_type": "code",
      "metadata": {
        "id": "YhA2mMCl3ZLa",
        "colab": {
          "base_uri": "https://localhost:8080/"
        },
        "outputId": "1617534d-cc36-4233-a231-26c6fb00e985"
      },
      "source": [
        "#t=面額\n",
        "t=[25,20,5,1]\n",
        "\n",
        "#n=多少錢\n",
        "def change(t,n):\n",
        "  m=[0 for _ in range(len(t))]\n",
        "  for i , money in enumerate(t):\n",
        "    m[i] = n//money\n",
        "    n=n % money\n",
        "  return m ,n\n",
        "mon=int(input(\"\"))  \n",
        "print(change(t,mon))"
      ],
      "execution_count": 8,
      "outputs": [
        {
          "output_type": "stream",
          "text": [
            "35\n",
            "([1, 0, 2, 0], 0)\n"
          ],
          "name": "stdout"
        }
      ]
    }
  ]
}