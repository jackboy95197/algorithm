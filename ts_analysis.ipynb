{
  "nbformat": 4,
  "nbformat_minor": 0,
  "metadata": {
    "colab": {
      "name": "ts_analysis.ipynb",
      "provenance": [],
      "authorship_tag": "ABX9TyPE6oBVXei2Yp43XvpmqP4/",
      "include_colab_link": true
    },
    "kernelspec": {
      "name": "python3",
      "display_name": "Python 3"
    }
  },
  "cells": [
    {
      "cell_type": "markdown",
      "metadata": {
        "id": "view-in-github",
        "colab_type": "text"
      },
      "source": [
        "<a href=\"https://colab.research.google.com/github/jackboy95197/algorithm/blob/master/ts_analysis.ipynb\" target=\"_parent\"><img src=\"https://colab.research.google.com/assets/colab-badge.svg\" alt=\"Open In Colab\"/></a>"
      ]
    },
    {
      "cell_type": "code",
      "metadata": {
        "id": "QAquFo6J51-0"
      },
      "source": [
        "###情境:查詢所要的閏年>時間換空間\n",
        "year = int(input(\"請輸入年份: \"))\n",
        "if (year % 4) == 0:  #任選數字除以4則會決定是否閏年\n",
        "   if (year % 100) == 0:\n",
        "       if (year % 400) == 0:    # 完整的百年若被400整除將會是閏年\n",
        "           print(\"{0} 是閏年\".format(year))   \n",
        "       else:\n",
        "           print(\"{0} 不是閏年\".format(year))  \n",
        "   else:\n",
        "       print(\"{0} 是閏年\".format(year))       # 非完整的百年若被400整除將不會是閏年\n",
        "else:\n",
        "   print(\"{0} 不是閏年\".format(year)) ##由於此程式碼需要每個作查找，因此所花費時間較多\n"
      ],
      "execution_count": null,
      "outputs": []
    },
    {
      "cell_type": "code",
      "metadata": {
        "id": "PWoqKJJW7_Ph"
      },
      "source": [
        "\n",
        "###情境:查詢所要的閏年>空間換時間\n",
        "year = int(input(\"請輸入2000~2040的年份: \")) #由於人為的空間無法做到無限大，因此只擷取2000~2040的年份\n",
        "if (year == 2000 or 2004 or 2008 or 2012 or 2016 or 2020 or 2024 or 2028 or 2032 or 2036 or 2040):  #以手動的方式去做篩選，因此電腦所扮演的角色僅是索引\n",
        "  print(\"{0}是閏年\".format(year))\n",
        "else:\n",
        "  print(\"{0}不是閏年\".format(year))\n"
      ],
      "execution_count": null,
      "outputs": []
    }
  ]
}