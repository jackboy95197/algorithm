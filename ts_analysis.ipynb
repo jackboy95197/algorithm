{
  "nbformat": 4,
  "nbformat_minor": 0,
  "metadata": {
    "colab": {
      "name": "ts_analysis.ipynb",
      "provenance": [],
      "authorship_tag": "ABX9TyPPUx6J7KAYxJY/LqHDGl7b",
      "include_colab_link": true
    },
    "kernelspec": {
      "name": "python3",
      "display_name": "Python 3"
    }
  },
  "cells": [
    {
      "cell_type": "markdown",
      "metadata": {
        "id": "view-in-github",
        "colab_type": "text"
      },
      "source": [
        "<a href=\"https://colab.research.google.com/github/jackboy95197/algorithm/blob/master/ts_analysis.ipynb\" target=\"_parent\"><img src=\"https://colab.research.google.com/assets/colab-badge.svg\" alt=\"Open In Colab\"/></a>"
      ]
    },
    {
      "cell_type": "code",
      "metadata": {
        "id": "QAquFo6J51-0",
        "outputId": "e5f5f5fd-b14a-4c64-c9a2-ddb24da9b007",
        "colab": {
          "base_uri": "https://localhost:8080/"
        }
      },
      "source": [
        "###情境:查詢所要的閏年>時間換空間\n",
        "year = int(input(\"請輸入年份: \"))\n",
        "if (year % 4) == 0:  #任選數字除以4則會決定是否閏年\n",
        "   if (year % 100) == 0:\n",
        "       if (year % 400) == 0:    # 完整的百年若被400整除將會是閏年\n",
        "           print(\"{} 是閏年\".format(year))   \n",
        "       else:\n",
        "           print(\"{} 不是閏年\".format(year))  \n",
        "   else:\n",
        "       print(\"{} 是閏年\".format(year))       \n",
        "else:\n",
        "   print(\"{} 不是閏年\".format(year)) ##由於此程式碼需要每個作查找，因此所花費時間較多\n"
      ],
      "execution_count": 3,
      "outputs": [
        {
          "output_type": "stream",
          "text": [
            "請輸入年份: 578\n",
            "578 不是閏年\n"
          ],
          "name": "stdout"
        }
      ]
    },
    {
      "cell_type": "code",
      "metadata": {
        "id": "PWoqKJJW7_Ph",
        "outputId": "36383a8d-35ed-40f8-b99c-82b7003513b8",
        "colab": {
          "base_uri": "https://localhost:8080/"
        }
      },
      "source": [
        "\n",
        "###情境:查詢所要的閏年>空間換時間\n",
        "year = int(input(\"請輸入2000~2040的年份: \")) #由於人為的空間無法做到無限大，因此只擷取2000~2040的年份\n",
        "if (year == 2000 or year==2004 or year==2008 or year==2012 or year==2016 or year==2020 or year==2024 or year==2028 or year==2032 or year==2036 or year==2040):  #以手動的方式去做篩選，因此電腦所扮演的角色僅是索引\n",
        "  print(\"{}是閏年\".format(year))\n",
        "else:\n",
        "  print(\"{}不是閏年\".format(year))\n"
      ],
      "execution_count": 2,
      "outputs": [
        {
          "output_type": "stream",
          "text": [
            "請輸入2000~2040的年份: 2006\n",
            "2006是閏年\n"
          ],
          "name": "stdout"
        }
      ]
    }
  ]
}