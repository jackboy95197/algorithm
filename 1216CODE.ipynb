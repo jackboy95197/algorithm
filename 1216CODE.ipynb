{
  "nbformat": 4,
  "nbformat_minor": 0,
  "metadata": {
    "colab": {
      "name": "Untitled1.ipynb",
      "provenance": [],
      "authorship_tag": "ABX9TyO0qojJz9d6DvksBriDHffe",
      "include_colab_link": true
    },
    "kernelspec": {
      "name": "python3",
      "display_name": "Python 3"
    }
  },
  "cells": [
    {
      "cell_type": "markdown",
      "metadata": {
        "id": "view-in-github",
        "colab_type": "text"
      },
      "source": [
        "<a href=\"https://colab.research.google.com/github/jackboy95197/algorithm/blob/master/1216CODE.ipynb\" target=\"_parent\"><img src=\"https://colab.research.google.com/assets/colab-badge.svg\" alt=\"Open In Colab\"/></a>"
      ]
    },
    {
      "cell_type": "code",
      "metadata": {
        "id": "QAquFo6J51-0",
        "colab": {
          "base_uri": "https://localhost:8080/"
        },
        "outputId": "33f482ab-8c2e-4e41-dc3b-d53e1cd72fe9"
      },
      "source": [
        "a = int(input(\"輸入最大數\"))\n",
        "b = int(input(\"輸入最小數\"))\n",
        "\n",
        "\n",
        "for i in range(b,a):\n",
        "    if (a-1) % i ==0 :\n",
        "        print(\"最近最大數的非質數\",i)\n",
        "\n",
        "def  is_prime(value):\n",
        "    for i in range(2, value):\n",
        "        if value % i == 0:\n",
        "            return False\n",
        "        return True\n",
        "\n",
        "number = int(input('請輸入數字'))\n",
        "if is_prime(number):\n",
        "    print('您輸入的是質數')\n",
        "else:\n",
        "    print('您輸入的不是質數')\n",
        "\n",
        "import random\n",
        "\n",
        "numbers = []\n",
        "max = 0\n",
        "for i in range(10):\n",
        "    number = random.randint(0,99)\n",
        "    if number > max:\n",
        "        max = number"
      ],
      "execution_count": 3,
      "outputs": [
        {
          "output_type": "stream",
          "text": [
            "輸入最大數98 \n",
            "輸入最小數78\n",
            "最近最大數的非質數 97\n",
            "請輸入數字5\n",
            "您輸入的是質數\n"
          ],
          "name": "stdout"
        }
      ]
    }
  ]
}