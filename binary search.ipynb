{
  "nbformat": 4,
  "nbformat_minor": 0,
  "metadata": {
    "colab": {
      "name": "Untitled1.ipynb",
      "provenance": [],
      "authorship_tag": "ABX9TyMf556tBu+VYgBm6EkYmmxY",
      "include_colab_link": true
    },
    "kernelspec": {
      "name": "python3",
      "display_name": "Python 3"
    }
  },
  "cells": [
    {
      "cell_type": "markdown",
      "metadata": {
        "id": "view-in-github",
        "colab_type": "text"
      },
      "source": [
        "<a href=\"https://colab.research.google.com/github/jackboy95197/algorithm/blob/master/binary%20search.ipynb\" target=\"_parent\"><img src=\"https://colab.research.google.com/assets/colab-badge.svg\" alt=\"Open In Colab\"/></a>"
      ]
    },
    {
      "cell_type": "code",
      "metadata": {
        "id": "QAquFo6J51-0",
        "outputId": "c299e12a-4fde-47f4-b6ca-adf80c78a22d",
        "colab": {
          "base_uri": "https://localhost:8080/",
          "height": 34
        }
      },
      "source": [
        "\n",
        "def binarySearch(arr,l,r,x):\n",
        "  if r>=l:\n",
        "    mid = l+(r-l)//2\n",
        "    if arr[mid]==x:\n",
        "      return mid\n",
        "    elif arr[mid]>x:\n",
        "      return binarySearch(arr,l,mid -1,x)\n",
        "    else:\n",
        "      return binarySearch(arr,mid +1,r,x)\n",
        "  else:\n",
        "    return -1\n",
        "arr = [5,8,9,15,30]\n",
        "x=9\n",
        "\n",
        "#Fuction call\n",
        "result = binarySearch(arr,0,len(arr)-1,x)\n",
        "\n",
        "if result != -1:\n",
        "  print(\"元素在索引%d\"%result)\n",
        "else:\n",
        "  print(\"在陣列中找不到該元素\")"
      ],
      "execution_count": 16,
      "outputs": [
        {
          "output_type": "stream",
          "text": [
            "元素在索引2\n"
          ],
          "name": "stdout"
        }
      ]
    },
    {
      "cell_type": "code",
      "metadata": {
        "id": "asXJwABOAkU4",
        "outputId": "0c9f72f4-560d-4ad5-ffac-988093cd396f",
        "colab": {
          "base_uri": "https://localhost:8080/",
          "height": 173
        }
      },
      "source": [
        "def binarySearch(arr,l,r,x):\n",
        "  if r>=l:\n",
        "    mid = l+(r-l)//2\n",
        "    if arr[mid]==x:\n",
        "      return mid\n",
        "    elif arr[mid]>x:\n",
        "      return binarySearch(arr,l,mid -1,x)\n",
        "    else:\n",
        "      return binarySearch(arr,mid +1,r,x)\n",
        "  else:\n",
        "    return -1\n",
        "\n",
        "def Bubble_Sort(datas):\n",
        "    for i in range(1, len(datas)):  \n",
        "        for j in range(len(datas)-i):    \n",
        "            if datas[j] > datas[j+1]:   \n",
        "                datas[j], datas[j+1] = datas[j+1], datas[j]\n",
        "                print(datas) # 影印出DATAS\n",
        "    return datas\n",
        "\n",
        "number = input(\"輸入5個數\")\n",
        "shu = number.split(\" \")\n",
        "fin = Bubble_Sort(shu)\n",
        "for i, d in enumerate(fin):\n",
        "  fin[i] = int(d)\n",
        "print(fin)\n",
        "arr = []\n",
        "keyvalue = input(str(\"選擇一個作排序\"))\n",
        "#Fuction call\n",
        "result = binarySearch(fin,0,len(fin)-1,int(keyvalue))\n",
        "\n",
        "if result != -1:\n",
        "  print(\"元素在索引%d\"%result)\n",
        "else:\n",
        "  print(\"在陣列中找不到該元素\")"
      ],
      "execution_count": 34,
      "outputs": [
        {
          "output_type": "stream",
          "text": [
            "輸入5個數5 6 2 1 7\n",
            "['5', '2', '6', '1', '7']\n",
            "['5', '2', '1', '6', '7']\n",
            "['2', '5', '1', '6', '7']\n",
            "['2', '1', '5', '6', '7']\n",
            "['1', '2', '5', '6', '7']\n",
            "[1, 2, 5, 6, 7]\n",
            "選擇一個作排序1\n",
            "元素在索引0\n"
          ],
          "name": "stdout"
        }
      ]
    }
  ]
}