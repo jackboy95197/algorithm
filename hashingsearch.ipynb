{
  "nbformat": 4,
  "nbformat_minor": 0,
  "metadata": {
    "colab": {
      "name": "Untitled0.ipynb",
      "provenance": [],
      "authorship_tag": "ABX9TyMt8fhW0ZS7mlOHUjRcaNxf",
      "include_colab_link": true
    },
    "kernelspec": {
      "name": "python3",
      "display_name": "Python 3"
    }
  },
  "cells": [
    {
      "cell_type": "markdown",
      "metadata": {
        "id": "view-in-github",
        "colab_type": "text"
      },
      "source": [
        "<a href=\"https://colab.research.google.com/github/jackboy95197/algorithm/blob/master/hashingsearch.ipynb\" target=\"_parent\"><img src=\"https://colab.research.google.com/assets/colab-badge.svg\" alt=\"Open In Colab\"/></a>"
      ]
    },
    {
      "cell_type": "code",
      "metadata": {
        "id": "YhA2mMCl3ZLa",
        "outputId": "9bc23a22-dd4c-4f9f-b8aa-a141c6dcd234",
        "colab": {
          "base_uri": "https://localhost:8080/",
          "height": 225
        }
      },
      "source": [
        "import random #線性搜尋\n",
        "\n",
        "INDEXBOX=10\n",
        "MAXNUM=7\n",
        "def print_data(data,max_number):\n",
        "  print('\\t',end='')\n",
        "  for i in range(max_number):\n",
        "    print('[%2d] '%data[i],end='')\n",
        "  print()\n",
        "\n",
        "def create_table(num,index):\n",
        "  tmp=num%INDEXBOX\n",
        "  while True:\n",
        "    if index[tmp]==-1:\n",
        "      index[tmp]=num\n",
        "      break\n",
        "    else:\n",
        "      tmp=(tmp+1)%INDEXBOX\n",
        "\n",
        "index=[None]*INDEXBOX\n",
        "data=[None]*MAXNUM\n",
        "\n",
        "print('原始陣列值:')\n",
        "for i in range(MAXNUM):\n",
        "  data[i]=random.randint(1,20)\n",
        "for i in range(INDEXBOX):\n",
        "  index[i]=-1\n",
        "print_data(data,MAXNUM)\n",
        "print('雜湊表內容(第一個數為0):')\n",
        "for i in range(MAXNUM):\n",
        "  create_table(data[i],index)\n",
        "  print(' %2d=>'%data[i],end='')\n",
        "  print_data(index,INDEXBOX)\n",
        "\n",
        "print('完成雜湊表:')\n",
        "print_data(index,INDEXBOX)"
      ],
      "execution_count": 6,
      "outputs": [
        {
          "output_type": "stream",
          "text": [
            "原始陣列值:\n",
            "\t[ 6] [ 1] [19] [13] [18] [17] [11] \n",
            "雜湊表內容:\n",
            "  6=>\t[-1] [-1] [-1] [-1] [-1] [-1] [ 6] [-1] [-1] [-1] \n",
            "  1=>\t[-1] [ 1] [-1] [-1] [-1] [-1] [ 6] [-1] [-1] [-1] \n",
            " 19=>\t[-1] [ 1] [-1] [-1] [-1] [-1] [ 6] [-1] [-1] [19] \n",
            " 13=>\t[-1] [ 1] [-1] [13] [-1] [-1] [ 6] [-1] [-1] [19] \n",
            " 18=>\t[-1] [ 1] [-1] [13] [-1] [-1] [ 6] [-1] [18] [19] \n",
            " 17=>\t[-1] [ 1] [-1] [13] [-1] [-1] [ 6] [17] [18] [19] \n",
            " 11=>\t[-1] [ 1] [11] [13] [-1] [-1] [ 6] [17] [18] [19] \n",
            "完成雜湊表:\n",
            "\t[-1] [ 1] [11] [13] [-1] [-1] [ 6] [17] [18] [19] \n"
          ],
          "name": "stdout"
        }
      ]
    }
  ]
}