{
  "nbformat": 4,
  "nbformat_minor": 0,
  "metadata": {
    "colab": {
      "name": "Untitled0.ipynb",
      "provenance": [],
      "include_colab_link": true
    },
    "kernelspec": {
      "name": "python3",
      "display_name": "Python 3"
    }
  },
  "cells": [
    {
      "cell_type": "markdown",
      "metadata": {
        "id": "view-in-github",
        "colab_type": "text"
      },
      "source": [
        "<a href=\"https://colab.research.google.com/github/jackboy95197/algorithm/blob/master/1209_DP.ipynb\" target=\"_parent\"><img src=\"https://colab.research.google.com/assets/colab-badge.svg\" alt=\"Open In Colab\"/></a>"
      ]
    },
    {
      "cell_type": "code",
      "metadata": {
        "id": "YhA2mMCl3ZLa",
        "colab": {
          "base_uri": "https://localhost:8080/"
        },
        "outputId": "1970d573-44e9-4a7e-c094-50fe3ea1932c"
      },
      "source": [
        "def BottomUpCutRod(p, n):\n",
        "    r = [0]*(n+1)\n",
        "    for i in range(1, n+1):\n",
        "        if n == 0:\n",
        "            return 0\n",
        "        q =0\n",
        "        for j in range(1, i+1):\n",
        "            q = max(q, p[j]+r[i-j])\n",
        "            r[i] = q\n",
        "        print(\"檢查個別價格:\",r)\n",
        "        print(\"總價格$%d元\"%q)\n",
        "    return r[n],r\n",
        "p=[0,1,5,8,9,10,17,17,20,24,30]\n",
        "print(\"共有1,2,3,4,5, 6, 7, 8, 9, 10的長度\")\n",
        "print(\"對應1,5,8,9,10,17,17,20,24,30的價格\")\n",
        "amount=int(input(\"請輸入所需要的長度\"))\n",
        "print(\"最佳價格為\",BottomUpCutRod(p, amount)) \n",
        "\n"
      ],
      "execution_count": null,
      "outputs": [
        {
          "output_type": "stream",
          "text": [
            "共有1,2,3,4,5, 6, 7, 8, 9, 10的長度\n",
            "對應1,5,8,9,10,17,17,20,24,30的價格\n",
            "請輸入所需要的長度7\n",
            "檢查個別價格: [0, 1, 0, 0, 0, 0, 0, 0]\n",
            "總價格$1元\n",
            "檢查個別價格: [0, 1, 5, 0, 0, 0, 0, 0]\n",
            "總價格$5元\n",
            "檢查個別價格: [0, 1, 5, 8, 0, 0, 0, 0]\n",
            "總價格$8元\n",
            "檢查個別價格: [0, 1, 5, 8, 10, 0, 0, 0]\n",
            "總價格$10元\n",
            "檢查個別價格: [0, 1, 5, 8, 10, 13, 0, 0]\n",
            "總價格$13元\n",
            "檢查個別價格: [0, 1, 5, 8, 10, 13, 17, 0]\n",
            "總價格$17元\n",
            "檢查個別價格: [0, 1, 5, 8, 10, 13, 17, 18]\n",
            "總價格$18元\n",
            "最佳價格為 (18, [0, 1, 5, 8, 10, 13, 17, 18])\n"
          ],
          "name": "stdout"
        }
      ]
    }
  ]
}