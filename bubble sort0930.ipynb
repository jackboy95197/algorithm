{
  "nbformat": 4,
  "nbformat_minor": 0,
  "metadata": {
    "colab": {
      "name": "Untitled1.ipynb",
      "provenance": [],
      "authorship_tag": "ABX9TyPxRMZnMKUcvOegmjHkDyiH",
      "include_colab_link": true
    },
    "kernelspec": {
      "name": "python3",
      "display_name": "Python 3"
    }
  },
  "cells": [
    {
      "cell_type": "markdown",
      "metadata": {
        "id": "view-in-github",
        "colab_type": "text"
      },
      "source": [
        "<a href=\"https://colab.research.google.com/github/jackboy95197/algorithm/blob/master/bubble%20sort0930.ipynb\" target=\"_parent\"><img src=\"https://colab.research.google.com/assets/colab-badge.svg\" alt=\"Open In Colab\"/></a>"
      ]
    },
    {
      "cell_type": "code",
      "metadata": {
        "id": "QAquFo6J51-0",
        "outputId": "3c8dc873-f81f-4af9-e96f-d53eeabeab68",
        "colab": {
          "base_uri": "https://localhost:8080/",
          "height": 238
        }
      },
      "source": [
        "def Bubble_Sort(datas):\n",
        "    for i in range(1, len(datas)):  \n",
        "        for j in range(len(datas)-i):    \n",
        "            if datas[j] > datas[j+1]:   \n",
        "                datas[j], datas[j+1] = datas[j+1], datas[j]\n",
        "                print(datas) # 影印出DATAS\n",
        "    return datas\n",
        "\n",
        "\n",
        "if __name__ == '__main__':\n",
        "    import random\n",
        "    # a = list(range(99))\n",
        "    b = input(\"輸入6個數\") #將數字INPUT進去 得出B\n",
        "    c = b.split(\" \") #用空白鍵分別出來 得出C\n",
        "    print(c)\n",
        "    a = Bubble_Sort(c)\n",
        "    print(a)"
      ],
      "execution_count": 4,
      "outputs": [
        {
          "output_type": "stream",
          "text": [
            "輸入6個數54 99 87 85 3 6\n",
            "['54', '99', '87', '85', '3', '6']\n",
            "['54', '87', '99', '85', '3', '6']\n",
            "['54', '87', '85', '99', '3', '6']\n",
            "['54', '87', '85', '3', '99', '6']\n",
            "['54', '87', '85', '3', '6', '99']\n",
            "['54', '85', '87', '3', '6', '99']\n",
            "['54', '85', '3', '87', '6', '99']\n",
            "['54', '85', '3', '6', '87', '99']\n",
            "['54', '3', '85', '6', '87', '99']\n",
            "['54', '3', '6', '85', '87', '99']\n",
            "['3', '54', '6', '85', '87', '99']\n",
            "['3', '54', '6', '85', '87', '99']\n"
          ],
          "name": "stdout"
        }
      ]
    }
  ]
}