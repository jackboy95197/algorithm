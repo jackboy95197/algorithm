{
  "nbformat": 4,
  "nbformat_minor": 0,
  "metadata": {
    "colab": {
      "name": "Untitled0.ipynb",
      "provenance": [],
      "include_colab_link": true
    },
    "kernelspec": {
      "name": "python3",
      "display_name": "Python 3"
    }
  },
  "cells": [
    {
      "cell_type": "markdown",
      "metadata": {
        "id": "view-in-github",
        "colab_type": "text"
      },
      "source": [
        "<a href=\"https://colab.research.google.com/github/jackboy95197/algorithm/blob/master/Hanoi.ipynb\" target=\"_parent\"><img src=\"https://colab.research.google.com/assets/colab-badge.svg\" alt=\"Open In Colab\"/></a>"
      ]
    },
    {
      "cell_type": "code",
      "metadata": {
        "id": "YhA2mMCl3ZLa",
        "outputId": "c81bf16f-c17f-46ef-8481-0fbb02ad0a1b",
        "colab": {
          "base_uri": "https://localhost:8080/"
        }
      },
      "source": [
        "d=1\n",
        "def hanoi(n ,A,B,C):\n",
        "  global d\n",
        "  \n",
        "  if n == 1 :\n",
        "    print(\"%c-->%c 執行次數:%d\" %(A,C,d))\n",
        "    d=d+1\n",
        "  else:\n",
        "    hanoi(n-1,A,C,B)\n",
        "    hanoi(1,A,B,C)\n",
        "    hanoi(n-1,B,A,C)\n",
        "j=int(input(\"輸入套環數量:\"))\n",
        "hanoi(j,\"A\",\"B\",\"C\") "
      ],
      "execution_count": 27,
      "outputs": [
        {
          "output_type": "stream",
          "text": [
            "輸入套環數量:3\n",
            "A-->C 執行次數:1\n",
            "A-->B 執行次數:2\n",
            "C-->B 執行次數:3\n",
            "A-->C 執行次數:4\n",
            "B-->A 執行次數:5\n",
            "B-->C 執行次數:6\n",
            "A-->C 執行次數:7\n"
          ],
          "name": "stdout"
        }
      ]
    }
  ]
}