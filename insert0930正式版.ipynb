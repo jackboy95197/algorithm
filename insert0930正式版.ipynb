{
  "nbformat": 4,
  "nbformat_minor": 0,
  "metadata": {
    "colab": {
      "name": "Untitled0.ipynb",
      "provenance": [],
      "include_colab_link": true
    },
    "kernelspec": {
      "name": "python3",
      "display_name": "Python 3"
    }
  },
  "cells": [
    {
      "cell_type": "markdown",
      "metadata": {
        "id": "view-in-github",
        "colab_type": "text"
      },
      "source": [
        "<a href=\"https://colab.research.google.com/github/jackboy95197/algorithm/blob/master/insert0930%E6%AD%A3%E5%BC%8F%E7%89%88.ipynb\" target=\"_parent\"><img src=\"https://colab.research.google.com/assets/colab-badge.svg\" alt=\"Open In Colab\"/></a>"
      ]
    },
    {
      "cell_type": "code",
      "metadata": {
        "id": "YhA2mMCl3ZLa",
        "outputId": "41f92819-ab46-491c-e576-9a658059d553",
        "colab": {
          "base_uri": "https://localhost:8080/",
          "height": 289
        }
      },
      "source": [
        "def Insertion_Sort(datas):\n",
        "    for i in range(1, len(datas)):  # n-1\n",
        "        for j in range(i): # n*(n+1)/2\n",
        "            current = datas[i] # n*(n+1)/2\n",
        "            if current < datas[j]: # \n",
        "                for k in range(i,j): # \n",
        "                  print(datas) # \n",
        "    return datas # 1\n",
        "    #n*(n+1)+n-1 = n^2 + 2n-1   O(n^2)\n",
        "\n",
        "\n",
        "def insertionSort(arr):\n",
        "    for i in range(len(arr)):\n",
        "        preIndex = i-1\n",
        "        current = arr[i]\n",
        "        while preIndex >= 0 and arr[preIndex] > current:\n",
        "            arr[preIndex+1] = arr[preIndex]\n",
        "            preIndex-=1\n",
        "        arr[preIndex+1] = current\n",
        "        print(arr)\n",
        "    return arr\n",
        "\n",
        "if __name__ == '__main__':\n",
        "    import random\n",
        "    a = list(range(15))\n",
        "    random.shuffle(a)\n",
        "    b = a.copy()\n",
        "\n",
        "    arr = insertionSort(a)\n",
        "    print('---'*10)\n",
        "    Insertion_Sort(b)"
      ],
      "execution_count": null,
      "outputs": [
        {
          "output_type": "stream",
          "text": [
            "[13, 14, 2, 12, 5, 0, 4, 6, 3, 1, 8, 9, 11, 10, 7]\n",
            "[13, 14, 2, 12, 5, 0, 4, 6, 3, 1, 8, 9, 11, 10, 7]\n",
            "[2, 13, 14, 12, 5, 0, 4, 6, 3, 1, 8, 9, 11, 10, 7]\n",
            "[2, 12, 13, 14, 5, 0, 4, 6, 3, 1, 8, 9, 11, 10, 7]\n",
            "[2, 5, 12, 13, 14, 0, 4, 6, 3, 1, 8, 9, 11, 10, 7]\n",
            "[0, 2, 5, 12, 13, 14, 4, 6, 3, 1, 8, 9, 11, 10, 7]\n",
            "[0, 2, 4, 5, 12, 13, 14, 6, 3, 1, 8, 9, 11, 10, 7]\n",
            "[0, 2, 4, 5, 6, 12, 13, 14, 3, 1, 8, 9, 11, 10, 7]\n",
            "[0, 2, 3, 4, 5, 6, 12, 13, 14, 1, 8, 9, 11, 10, 7]\n",
            "[0, 1, 2, 3, 4, 5, 6, 12, 13, 14, 8, 9, 11, 10, 7]\n",
            "[0, 1, 2, 3, 4, 5, 6, 8, 12, 13, 14, 9, 11, 10, 7]\n",
            "[0, 1, 2, 3, 4, 5, 6, 8, 9, 12, 13, 14, 11, 10, 7]\n",
            "[0, 1, 2, 3, 4, 5, 6, 8, 9, 11, 12, 13, 14, 10, 7]\n",
            "[0, 1, 2, 3, 4, 5, 6, 8, 9, 10, 11, 12, 13, 14, 7]\n",
            "[0, 1, 2, 3, 4, 5, 6, 7, 8, 9, 10, 11, 12, 13, 14]\n",
            "------------------------------\n"
          ],
          "name": "stdout"
        }
      ]
    }
  ]
}